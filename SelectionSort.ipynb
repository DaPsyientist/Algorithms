{
  "nbformat": 4,
  "nbformat_minor": 0,
  "metadata": {
    "colab": {
      "provenance": [],
      "authorship_tag": "ABX9TyPCzJq45l/Y7PBpUZ1WceXV",
      "include_colab_link": true
    },
    "kernelspec": {
      "name": "python3",
      "display_name": "Python 3"
    },
    "language_info": {
      "name": "python"
    }
  },
  "cells": [
    {
      "cell_type": "markdown",
      "metadata": {
        "id": "view-in-github",
        "colab_type": "text"
      },
      "source": [
        "<a href=\"https://colab.research.google.com/github/DaPsyientist/Algorithms/blob/main/SelectionSort.ipynb\" target=\"_parent\"><img src=\"https://colab.research.google.com/assets/colab-badge.svg\" alt=\"Open In Colab\"/></a>"
      ]
    },
    {
      "cell_type": "code",
      "execution_count": 64,
      "metadata": {
        "id": "tM7IQo9TdyPP"
      },
      "outputs": [],
      "source": [
        "def Smallest(arr):\n",
        "  smallest = arr[0] #Stores the smallest value\n",
        "  smallest_index = 0 # Stores the index of the smallest value\n",
        "  for i in range(1, len(arr)):\n",
        "    if arr[i] < smallest:\n",
        "      smallest = arr[i]\n",
        "      smallest_index = i\n",
        "  return smallest_index"
      ]
    },
    {
      "cell_type": "code",
      "source": [
        "def SelectionSort(arr): #Sorts a given array\n",
        "  newArr = []\n",
        "  for i in range(len(arr)):\n",
        "    smallest = Smallest(arr)\n",
        "    smallest_element = arr.pop(smallest)\n",
        "    newArr.append(smallest_element)\n",
        "  return newArr"
      ],
      "metadata": {
        "id": "cOP-AVJhfQAD"
      },
      "execution_count": 65,
      "outputs": []
    },
    {
      "cell_type": "code",
      "source": [
        "arr = [5, 3, 6, 2, 10]\n",
        "print(SelectionSort(arr))"
      ],
      "metadata": {
        "colab": {
          "base_uri": "https://localhost:8080/"
        },
        "id": "MGZFPPQSfk_0",
        "outputId": "6bc98c2f-d5b7-4cfa-ea3d-815eec24b3d4"
      },
      "execution_count": 66,
      "outputs": [
        {
          "output_type": "stream",
          "name": "stdout",
          "text": [
            "[2, 3, 5, 6, 10]\n"
          ]
        }
      ]
    }
  ]
}