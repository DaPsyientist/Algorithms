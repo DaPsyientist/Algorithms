{
  "nbformat": 4,
  "nbformat_minor": 0,
  "metadata": {
    "colab": {
      "provenance": [],
      "authorship_tag": "ABX9TyPNZRjaj7yncxlSYNqw1kPA",
      "include_colab_link": true
    },
    "kernelspec": {
      "name": "python3",
      "display_name": "Python 3"
    },
    "language_info": {
      "name": "python"
    }
  },
  "cells": [
    {
      "cell_type": "markdown",
      "metadata": {
        "id": "view-in-github",
        "colab_type": "text"
      },
      "source": [
        "<a href=\"https://colab.research.google.com/github/DaPsyientist/Algorithms/blob/main/Quicksort.ipynb\" target=\"_parent\"><img src=\"https://colab.research.google.com/assets/colab-badge.svg\" alt=\"Open In Colab\"/></a>"
      ]
    },
    {
      "cell_type": "code",
      "execution_count": 1,
      "metadata": {
        "id": "E2INxVnb1GYU"
      },
      "outputs": [],
      "source": [
        "def quicksort(array):\n",
        "  if len(array) < 2:\n",
        "    return array #Base case: arrays with 0 or 1 element are already sorted\n",
        "  else:\n",
        "    pivot = array[0]\n",
        "    less = [i for i in array[1:] if i <= pivot] #Sub-array of elements less than the pivot\n",
        "    greater = [i for i in array[1:] if i > pivot] #Sub-array of all the elements greater than the pivot\n",
        "    return quicksort(less) + [pivot] + quicksort(greater)"
      ]
    },
    {
      "cell_type": "code",
      "source": [
        "print(quicksort([10, 5, 2, 3]))"
      ],
      "metadata": {
        "colab": {
          "base_uri": "https://localhost:8080/"
        },
        "id": "PSxr6Wxp2POA",
        "outputId": "2b0d1970-4ad1-4781-b93e-2da7ccbb233a"
      },
      "execution_count": 2,
      "outputs": [
        {
          "output_type": "stream",
          "name": "stdout",
          "text": [
            "[2, 3, 5, 10]\n"
          ]
        }
      ]
    }
  ]
}